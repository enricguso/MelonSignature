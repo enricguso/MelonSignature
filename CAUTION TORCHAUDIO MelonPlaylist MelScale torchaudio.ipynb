{
 "cells": [
  {
   "cell_type": "code",
   "execution_count": 1,
   "metadata": {},
   "outputs": [],
   "source": [
    "from essentia.streaming import *\n",
    "import essentia.standard as es\n",
    "import essentia\n",
    "import numpy as np\n",
    "import matplotlib.pyplot as plt\n",
    "import julius"
   ]
  },
  {
   "cell_type": "code",
   "execution_count": 2,
   "metadata": {},
   "outputs": [],
   "source": [
    "windowing = es.Windowing(type='hann', normalized=False, zeroPadding=0)\n",
    "spectrum = es.Spectrum()\n",
    "melbands = es.MelBands(numberBands=48,\n",
    "                               sampleRate=16000,\n",
    "                               lowFrequencyBound=0,\n",
    "                               highFrequencyBound=16000/2,\n",
    "                               inputSize=(512+0)//2+1,\n",
    "                               weighting='linear',\n",
    "                               normalize='unit_tri',\n",
    "                               warpingFormula='slaneyMel',\n",
    "                               type='power')\n",
    "amp2db = es.UnaryOperator(type='lin2db', scale=2)\n",
    "oaudio = es.MonoLoader(filename='576923.mp3', sampleRate=16000)()\n",
    "omelspec = []\n",
    "for frame in es.FrameGenerator(oaudio, frameSize=512, hopSize=256, startFromZero=False):\n",
    "    ospectrumFrame = spectrum(windowing(frame))\n",
    "    omelFrame = melbands(ospectrumFrame)\n",
    "    #omelspec.append(amp2db(omelFrame))\n",
    "    omelspec.append((omelFrame))\n",
    "omelspec = np.array(omelspec).T"
   ]
  },
  {
   "cell_type": "code",
   "execution_count": 3,
   "metadata": {},
   "outputs": [
    {
     "data": {
      "text/plain": [
       "(48, 3130)"
      ]
     },
     "execution_count": 3,
     "metadata": {},
     "output_type": "execute_result"
    }
   ],
   "source": [
    "omelspec.shape"
   ]
  },
  {
   "cell_type": "code",
   "execution_count": 4,
   "metadata": {},
   "outputs": [],
   "source": [
    "import torch\n",
    "import torchaudio\n",
    "#Now reproduce with torchaudio\n",
    "audio, fs = torchaudio.load('576923.mp3')"
   ]
  },
  {
   "cell_type": "code",
   "execution_count": 5,
   "metadata": {},
   "outputs": [],
   "source": [
    "audio = julius.resample_frac(audio, 44100, 16000).mean(0)\n",
    "meltrans = torchaudio.transforms.MelSpectrogram(sample_rate=16000, \n",
    "                                                n_fft=512, win_length=512, \n",
    "                                                hop_length=256, n_mels=48, \n",
    "                                                f_max=8000, norm='slaney')\n",
    "#a2db=torchaudio.transforms.AmplitudeToDB()"
   ]
  },
  {
   "cell_type": "code",
   "execution_count": 6,
   "metadata": {},
   "outputs": [],
   "source": [
    "\n",
    "melspec=meltrans(audio)\n",
    "melspec = melspec**2\n",
    "#melspec=a2db(melspec)"
   ]
  },
  {
   "cell_type": "code",
   "execution_count": 7,
   "metadata": {},
   "outputs": [
    {
     "data": {
      "text/plain": [
       "torch.Size([48, 3130])"
      ]
     },
     "execution_count": 7,
     "metadata": {},
     "output_type": "execute_result"
    }
   ],
   "source": [
    "melspec.shape"
   ]
  },
  {
   "cell_type": "code",
   "execution_count": 8,
   "metadata": {},
   "outputs": [
    {
     "data": {
      "text/plain": [
       "tensor(41.1053)"
      ]
     },
     "execution_count": 8,
     "metadata": {},
     "output_type": "execute_result"
    }
   ],
   "source": [
    "rmse = np.sqrt(((melspec - omelspec)**2).mean())\n",
    "rmse "
   ]
  },
  {
   "cell_type": "code",
   "execution_count": 9,
   "metadata": {},
   "outputs": [
    {
     "data": {
      "text/plain": [
       "[<matplotlib.lines.Line2D at 0x7fb6c825a390>]"
      ]
     },
     "execution_count": 9,
     "metadata": {},
     "output_type": "execute_result"
    },
    {
     "data": {
      "image/png": "[encoded data removed]",
      "text/plain": [
       "<Figure size 432x288 with 1 Axes>"
      ]
     },
     "metadata": {
      "needs_background": "light"
     },
     "output_type": "display_data"
    }
   ],
   "source": [
    "plt.plot(melspec[33,0:50])\n",
    "plt.plot(omelspec[33,0:50])"
   ]
  }
 ],
 "metadata": {
  "kernelspec": {
   "display_name": "melon_venv",
   "language": "python",
   "name": "melon_venv"
  },
  "language_info": {
   "codemirror_mode": {
    "name": "ipython",
    "version": 3
   },
   "file_extension": ".py",
   "mimetype": "text/x-python",
   "name": "python",
   "nbconvert_exporter": "python",
   "pygments_lexer": "ipython3",
   "version": "3.7.4"
  }
 },
 "nbformat": 4,
 "nbformat_minor": 2
}
