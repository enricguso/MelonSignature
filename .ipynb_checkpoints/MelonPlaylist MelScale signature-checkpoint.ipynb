{
 "cells": [
  {
   "cell_type": "code",
   "execution_count": 13,
   "metadata": {},
   "outputs": [],
   "source": [
    "from essentia.streaming import *\n",
    "import essentia.standard as es\n",
    "import essentia\n",
    "import numpy as np"
   ]
  },
  {
   "cell_type": "code",
   "execution_count": 22,
   "metadata": {},
   "outputs": [],
   "source": [
    "def melspectrogram(audio, sampleRate=16000, frameSize=512, hopSize=256,\n",
    "                   window='hann', zeroPadding=0, center=True,\n",
    "                   numberBands=[128, 96, 48, 32, 24, 16, 8],\n",
    "                   lowFrequencyBound=0, highFrequencyBound=None,\n",
    "                   weighting='linear', warpingFormula='slaneyMel', normalize='unit_tri'):\n",
    "\n",
    "    if highFrequencyBound is None:\n",
    "        highFrequencyBound = sampleRate/2\n",
    "\n",
    "    windowing = es.Windowing(type=window, normalized=False, zeroPadding=zeroPadding)\n",
    "    spectrum = es.Spectrum()\n",
    "    melbands = {}\n",
    "    for nBands in numberBands:\n",
    "        melbands[nBands] = es.MelBands(numberBands=nBands,\n",
    "                                       sampleRate=sampleRate,\n",
    "                                       lowFrequencyBound=lowFrequencyBound,\n",
    "                                       highFrequencyBound=highFrequencyBound,\n",
    "                                       inputSize=(frameSize+zeroPadding)//2+1,\n",
    "                                       weighting=weighting,\n",
    "                                       normalize=normalize,\n",
    "                                       warpingFormula=warpingFormula,\n",
    "                                       type='power')\n",
    "    norm10k = es.UnaryOperator(type='identity', shift=1, scale=10000)\n",
    "    log10 = es.UnaryOperator(type='log10')\n",
    "    amp2db = es.UnaryOperator(type='lin2db', scale=2)\n",
    "\n",
    "    results = essentia.Pool()\n",
    "\n",
    "    for frame in es.FrameGenerator(audio, frameSize=frameSize, hopSize=hopSize,\n",
    "                                   startFromZero=not center):\n",
    "        spectrumFrame = spectrum(windowing(frame))\n",
    "\n",
    "        for nBands in numberBands:\n",
    "            melFrame = melbands[nBands](spectrumFrame)\n",
    "            results.add('mel_' + str(nBands)+'_db', amp2db(melFrame))\n",
    "            results.add('mel_' + str(nBands)+'_log1+10kx', log10(norm10k(melFrame)))\n",
    "\n",
    "    return results\n",
    "\n",
    "\n",
    "def cut_audio(filename, sampleRate=16000, segment_duration=None):\n",
    "\n",
    "    audio = es.MonoLoader(filename=filename, sampleRate=sampleRate)()\n",
    "\n",
    "    if segment_duration:\n",
    "        segment_duration = round(segment_duration*sampleRate)\n",
    "        segment_start = (len(audio) - segment_duration) // 2\n",
    "        segment_end = segment_start + segment_duration\n",
    "    else:\n",
    "        segment_start = 0\n",
    "        segment_end = len(audio)\n",
    "\n",
    "    if segment_start < 0 or segment_end > len(audio):\n",
    "      raise ValueError('Segment duration is larger than the input audio duration')\n",
    "\n",
    "    return audio[segment_start:segment_end]\n",
    "\n",
    "\n",
    "def analyze_mel(filename, segment_duration=None, maxFrequency=11025, replaygain=True):\n",
    "    lowlevelFrameSize=2048\n",
    "    lowlevelHopSize=1024\n",
    "\n",
    "    # Compute replay gain and duration on the entire file, then load the\n",
    "    # segment that is centered in time with replaygain applied\n",
    "    audio = es.MonoLoader(filename=filename)()\n",
    "\n",
    "    if replaygain:\n",
    "        replaygain = es.ReplayGain()(audio)\n",
    "    else:\n",
    "        replaygain = -6 # Default replaygain value in EasyLoader\n",
    "\n",
    "    if segment_duration:\n",
    "        segment_start = (len(audio) / 44100 - segment_duration) / 2\n",
    "        segment_end = segment_start + segment_duration\n",
    "    else:\n",
    "        segment_start = 0\n",
    "        segment_end = len(audio)/44100\n",
    "\n",
    "    if segment_start < 0 or segment_end > len(audio)/44100:\n",
    "      raise ValueError('Segment duration is larger than the input audio duration')\n",
    "\n",
    "    loader_mel = EasyLoader(filename=filename, replayGain=replaygain,\n",
    "                            startTime=segment_start, endTime=segment_end)\n",
    "\n",
    "    # Processing for Mel bands\n",
    "    framecutter_mel = FrameCutter(frameSize=lowlevelFrameSize,\n",
    "                                  hopSize=lowlevelHopSize)\n",
    "    window_mel = Windowing(type='hann', zeroPadding=lowlevelFrameSize)\n",
    "\n",
    "    spectrum_mel = Spectrum()\n",
    "\n",
    "    melbands128 = MelBands(numberBands=128,\n",
    "                          lowFrequencyBound=0,\n",
    "                          highFrequencyBound=maxFrequency,\n",
    "                          inputSize=lowlevelFrameSize+1)\n",
    "\n",
    "    melbands96 = MelBands(numberBands=96,\n",
    "                          lowFrequencyBound=0,\n",
    "                          highFrequencyBound=maxFrequency,\n",
    "                          inputSize=lowlevelFrameSize+1)\n",
    "\n",
    "    melbands48 = MelBands(numberBands=48,\n",
    "                          lowFrequencyBound=0,\n",
    "                          highFrequencyBound=maxFrequency,\n",
    "                          inputSize=lowlevelFrameSize+1)\n",
    "\n",
    "    melbands32 = MelBands(numberBands=32,\n",
    "                          lowFrequencyBound=0,\n",
    "                          highFrequencyBound=maxFrequency,\n",
    "                          inputSize=lowlevelFrameSize+1)\n",
    "\n",
    "    melbands24 = MelBands(numberBands=24,\n",
    "                          lowFrequencyBound=0,\n",
    "                          highFrequencyBound=maxFrequency,\n",
    "                          inputSize=lowlevelFrameSize+1)\n",
    "\n",
    "    melbands16 = MelBands(numberBands=16,\n",
    "                          lowFrequencyBound=0,\n",
    "                          highFrequencyBound=maxFrequency,\n",
    "                          inputSize=lowlevelFrameSize+1)\n",
    "\n",
    "    melbands8 = MelBands(numberBands=8,\n",
    "                         lowFrequencyBound=0,\n",
    "                         highFrequencyBound=maxFrequency,\n",
    "                         inputSize=lowlevelFrameSize+1)\n",
    "\n",
    "\n",
    "\n",
    "    # Normalize Mel bands: log10(1+x*10000)\n",
    "    norm128 = UnaryOperator(type='identity', shift=1, scale=10000)\n",
    "    log10128 = UnaryOperator(type='log10')\n",
    "\n",
    "    norm96 = UnaryOperator(type='identity', shift=1, scale=10000)\n",
    "    log1096 = UnaryOperator(type='log10')\n",
    "\n",
    "    norm48 = UnaryOperator(type='identity', shift=1, scale=10000)\n",
    "    log1048 = UnaryOperator(type='log10')\n",
    "\n",
    "    norm32 = UnaryOperator(type='identity', shift=1, scale=10000)\n",
    "    log1032 = UnaryOperator(type='log10')\n",
    "\n",
    "    norm24 = UnaryOperator(type='identity', shift=1, scale=10000)\n",
    "    log1024 = UnaryOperator(type='log10')\n",
    "\n",
    "    norm16 = UnaryOperator(type='identity', shift=1, scale=10000)\n",
    "    log1016 = UnaryOperator(type='log10')\n",
    "\n",
    "    norm8 = UnaryOperator(type='identity', shift=1, scale=10000)\n",
    "    log108 = UnaryOperator(type='log10')\n",
    "\n",
    "    p = essentia.Pool()\n",
    "\n",
    "    loader_mel.audio >> framecutter_mel.signal\n",
    "    framecutter_mel.frame >> window_mel.frame >> spectrum_mel.frame\n",
    "\n",
    "    spectrum_mel.spectrum >> melbands128.spectrum\n",
    "    spectrum_mel.spectrum >> melbands96.spectrum\n",
    "    spectrum_mel.spectrum >> melbands48.spectrum\n",
    "    spectrum_mel.spectrum >> melbands32.spectrum\n",
    "    spectrum_mel.spectrum >> melbands24.spectrum\n",
    "    spectrum_mel.spectrum >> melbands16.spectrum\n",
    "    spectrum_mel.spectrum >> melbands8.spectrum\n",
    "\n",
    "    melbands128.bands >> norm128.array >> log10128.array >> (p, 'mel128')\n",
    "    melbands96.bands >> norm96.array >> log1096.array >> (p, 'mel96')\n",
    "    melbands48.bands >> norm48.array >> log1048.array >> (p, 'mel48')\n",
    "    melbands32.bands >> norm32.array >> log1032.array >> (p, 'mel32')\n",
    "    melbands24.bands >> norm24.array >> log1024.array >> (p, 'mel24')\n",
    "    melbands16.bands >> norm16.array >> log1016.array >> (p, 'mel16')\n",
    "    melbands8.bands >> norm8.array >> log108.array >> (p, 'mel8')\n",
    "\n",
    "    essentia.run(loader_mel)\n",
    "\n",
    "    return p"
   ]
  },
  {
   "cell_type": "code",
   "execution_count": 23,
   "metadata": {},
   "outputs": [],
   "source": [
    "pool = analyze_mel('576923.mp3')"
   ]
  },
  {
   "cell_type": "code",
   "execution_count": 24,
   "metadata": {},
   "outputs": [],
   "source": [
    "mel_ess = pool['mel48'].T"
   ]
  },
  {
   "cell_type": "code",
   "execution_count": 25,
   "metadata": {},
   "outputs": [],
   "source": [
    "mel_melon = np.load('576923.npy')"
   ]
  },
  {
   "cell_type": "code",
   "execution_count": 26,
   "metadata": {},
   "outputs": [
    {
     "data": {
      "text/plain": [
       "(48, 1876)"
      ]
     },
     "execution_count": 26,
     "metadata": {},
     "output_type": "execute_result"
    }
   ],
   "source": [
    "mel_melon.shape"
   ]
  },
  {
   "cell_type": "code",
   "execution_count": 27,
   "metadata": {},
   "outputs": [
    {
     "data": {
      "text/plain": [
       "(48, 2157)"
      ]
     },
     "execution_count": 27,
     "metadata": {},
     "output_type": "execute_result"
    }
   ],
   "source": [
    "mel_ess.shape"
   ]
  },
  {
   "cell_type": "code",
   "execution_count": 28,
   "metadata": {},
   "outputs": [
    {
     "data": {
      "text/plain": [
       "array([[ -7.887066 , -28.748133 , -18.874838 , ..., -18.29318  ,\n",
       "        -20.040993 , -15.670321 ],\n",
       "       [ -5.681465 , -25.458563 , -18.32325  , ..., -14.090767 ,\n",
       "        -14.78177  , -12.724834 ],\n",
       "       [ -1.1125975, -11.245893 , -11.762764 , ...,  -3.8788598,\n",
       "         -5.2051177, -12.451994 ],\n",
       "       ...,\n",
       "       [-35.191166 , -27.399254 , -31.73117  , ..., -39.381298 ,\n",
       "        -40.27823  , -39.283855 ],\n",
       "       [-35.241993 , -28.77065  , -29.981926 , ..., -42.0037   ,\n",
       "        -41.793472 , -41.58875  ],\n",
       "       [-37.730556 , -41.596817 , -41.02214  , ..., -47.232635 ,\n",
       "        -45.44609  , -45.186172 ]], dtype=float32)"
      ]
     },
     "execution_count": 28,
     "metadata": {},
     "output_type": "execute_result"
    }
   ],
   "source": [
    "mel_melon"
   ]
  },
  {
   "cell_type": "code",
   "execution_count": 29,
   "metadata": {},
   "outputs": [
    {
     "data": {
      "text/plain": [
       "array([[0.0000000e+00, 3.1063152e-07, 3.6240343e-07, ..., 3.1573690e-02,\n",
       "        1.8236548e-02, 0.0000000e+00],\n",
       "       [0.0000000e+00, 2.0708771e-07, 3.1063152e-07, ..., 1.7096120e-01,\n",
       "        2.6123753e-02, 0.0000000e+00],\n",
       "       [0.0000000e+00, 1.0354386e-07, 5.6949091e-07, ..., 2.2004661e-01,\n",
       "        1.6786341e-02, 0.0000000e+00],\n",
       "       ...,\n",
       "       [0.0000000e+00, 0.0000000e+00, 0.0000000e+00, ..., 2.8237587e-04,\n",
       "        1.9672891e-05, 0.0000000e+00],\n",
       "       [0.0000000e+00, 0.0000000e+00, 0.0000000e+00, ..., 3.5056160e-04,\n",
       "        2.6040505e-05, 0.0000000e+00],\n",
       "       [0.0000000e+00, 0.0000000e+00, 0.0000000e+00, ..., 5.3540588e-04,\n",
       "        6.4813634e-05, 0.0000000e+00]], dtype=float32)"
      ]
     },
     "execution_count": 29,
     "metadata": {},
     "output_type": "execute_result"
    }
   ],
   "source": [
    "mel_ess"
   ]
  }
 ],
 "metadata": {
  "kernelspec": {
   "display_name": "melon_venv",
   "language": "python",
   "name": "melon_venv"
  },
  "language_info": {
   "codemirror_mode": {
    "name": "ipython",
    "version": 3
   },
   "file_extension": ".py",
   "mimetype": "text/x-python",
   "name": "python",
   "nbconvert_exporter": "python",
   "pygments_lexer": "ipython3",
   "version": "3.7.4"
  }
 },
 "nbformat": 4,
 "nbformat_minor": 2
}
